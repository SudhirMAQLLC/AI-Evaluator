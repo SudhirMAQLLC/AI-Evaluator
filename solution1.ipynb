{
 "cells": [
  {
   "cell_type": "markdown",
   "metadata": {},
   "source": [
    "# Correct SQL Solution\n",
    "\n",
    "Implements all requirements from the assignment."
   ]
  },
  {
   "cell_type": "code",
   "execution_count": null,
   "metadata": {
    "language": "sql"
   },
   "outputs": [],
   "source": [
    "CREATE TABLE Customers (\n",
    "    CustomerID INT PRIMARY KEY,\n",
    "    Name VARCHAR(100),\n",
    "    Email VARCHAR(255) UNIQUE,\n",
    "    CreatedAt DATETIME\n",
    ");\n",
    "\n",
    "CREATE TABLE Orders (\n",
    "    OrderID INT PRIMARY KEY,\n",
    "    CustomerID INT,\n",
    "    OrderDate DATETIME,\n",
    "    Amount DECIMAL(10,2),\n",
    "    FOREIGN KEY (CustomerID) REFERENCES Customers(CustomerID)\n",
    ");\n",
    "\n",
    "INSERT INTO Customers (CustomerID, Name, Email, CreatedAt) VALUES\n",
    "(1, 'Alice Smith', 'alice@example.com', GETDATE()),\n",
    "(2, 'Bob Johnson', 'bob@example.com', GETDATE()),\n",
    "(3, 'Carol Williams', 'carol@example.com', GETDATE());\n",
    "\n",
    "INSERT INTO Orders (OrderID, CustomerID, OrderDate, Amount) VALUES\n",
    "(101, 1, '2023-01-01', 250.00),\n",
    "(102, 2, '2023-01-05', 150.50),\n",
    "(103, 1, '2023-01-10', 300.00),\n",
    "(104, 3, '2023-01-15', 400.75),\n",
    "(105, 2, '2023-01-20', 100.25);\n",
    "\n",
    "SELECT\n",
    "    c.Name,\n",
    "    COUNT(o.OrderID) AS TotalOrders,\n",
    "    SUM(o.Amount) AS TotalAmount\n",
    "FROM\n",
    "    Customers c\n",
    "LEFT JOIN\n",
    "    Orders o ON c.CustomerID = o.CustomerID\n",
    "GROUP BY\n",
    "    c.Name\n",
    "ORDER BY\n",
    "    TotalAmount DESC;"
   ]
  }
 ],
 "metadata": {
  "kernelspec": {
   "display_name": "SQL",
   "language": "sql",
   "name": "sql"
  },
  "language_info": {
   "name": "sql"
  }
 },
 "nbformat": 4,
 "nbformat_minor": 5
}

