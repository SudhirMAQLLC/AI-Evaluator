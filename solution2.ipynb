{
 "cells": [
  {
   "cell_type": "markdown",
   "metadata": {},
   "source": [
    "# Incorrect SQL Solution\n",
    "\n",
    "This intentionally uses wrong table names and lacks constraints."
   ]
  },
  {
   "cell_type": "code",
   "execution_count": null,
   "metadata": {
    "language": "sql"
   },
   "outputs": [],
   "source": [
    "CREATE TABLE client (\n",
    "    id INT,\n",
    "    fullname NVARCHAR(255),\n",
    "    mail NVARCHAR(255)\n",
    ");\n",
    "\n",
    "CREATE TABLE purchase (\n",
    "    id INT,\n",
    "    client_id INT,\n",
    "    date_ordered DATETIME,\n",
    "    price MONEY\n",
    ");\n",
    "\n",
    "INSERT INTO client VALUES (1, 'Alice Smith', 'alice@example.com');\n",
    "INSERT INTO client VALUES (2, 'Bob Johnson', 'bob@example.com');\n",
    "\n",
    "INSERT INTO purchase VALUES (1, 1, '2023-01-01', 250.00);\n",
    "INSERT INTO purchase VALUES (2, 2, '2023-01-05', 150.50);\n",
    "\n",
    "SELECT * FROM client;\n",
    "SELECT * FROM purchase;"
   ]
  }
 ],
 "metadata": {
  "kernelspec": {
   "display_name": "SQL",
   "language": "sql",
   "name": "sql"
  },
  "language_info": {
   "name": "sql"
  }
 },
 "nbformat": 4,
 "nbformat_minor": 5
}

